{
 "cells": [
  {
   "cell_type": "markdown",
   "metadata": {},
   "source": [
    "# sklearn-porter\n",
    "\n",
    "Repository: https://github.com/nok/sklearn-porter\n",
    "\n",
    "## GaussianNB\n",
    "\n",
    "Documentation: [sklearn.naive_bayes.GaussianNB](http://scikit-learn.org/stable/modules/generated/sklearn.naive_bayes.GaussianNB.html)"
   ]
  },
  {
   "cell_type": "markdown",
   "metadata": {},
   "source": [
    "### Loading data:"
   ]
  },
  {
   "cell_type": "code",
   "execution_count": 1,
   "metadata": {},
   "outputs": [
    {
     "name": "stdout",
     "output_type": "stream",
     "text": [
      "((150, 4), (150,))\n"
     ]
    }
   ],
   "source": [
    "from sklearn.datasets import load_iris\n",
    "\n",
    "iris_data = load_iris()\n",
    "X = iris_data.data\n",
    "y = iris_data.target\n",
    "\n",
    "print(X.shape, y.shape)"
   ]
  },
  {
   "cell_type": "markdown",
   "metadata": {},
   "source": [
    "### Train classifier:"
   ]
  },
  {
   "cell_type": "code",
   "execution_count": 2,
   "metadata": {},
   "outputs": [
    {
     "data": {
      "text/plain": [
       "GaussianNB(priors=None)"
      ]
     },
     "execution_count": 2,
     "metadata": {},
     "output_type": "execute_result"
    }
   ],
   "source": [
    "from sklearn.naive_bayes import GaussianNB\n",
    "\n",
    "clf = GaussianNB()\n",
    "clf.fit(X, y)"
   ]
  },
  {
   "cell_type": "markdown",
   "metadata": {},
   "source": [
    "### Transpile classifier:"
   ]
  },
  {
   "cell_type": "code",
   "execution_count": 5,
   "metadata": {
    "scrolled": false
   },
   "outputs": [
    {
     "name": "stdout",
     "output_type": "stream",
     "text": [
      "var GaussianNB = function(priors, sigmas, thetas) {\n",
      "\n",
      "    this.priors = priors;\n",
      "    this.sigmas = sigmas;\n",
      "    this.thetas = thetas;\n",
      "\n",
      "    this.predict = function(features) {\n",
      "        var likelihoods = new Array(this.sigmas.length);\n",
      "    \n",
      "        for (var i = 0, il = this.sigmas.length; i < il; i++) {\n",
      "            var sum = 0.;\n",
      "            for (var j = 0, jl = this.sigmas[0].length; j < jl; j++) {\n",
      "                sum += Math.log(2. * Math.PI * this.sigmas[i][j]);\n",
      "            }\n",
      "            var nij = -0.5 * sum;\n",
      "            sum = 0.;\n",
      "            for (var j = 0, jl = this.sigmas[0].length; j < jl; j++) {\n",
      "                sum += Math.pow(features[j] - this.thetas[i][j], 2.) / this.sigmas[i][j];\n",
      "            }\n",
      "            nij -= 0.5 * sum;\n",
      "            likelihoods[i] = Math.log(this.priors[i]) + nij;\n",
      "        }\n",
      "    \n",
      "        var classIdx = 0;\n",
      "        for (var i = 0, l = likelihoods.length; i < l; i++) {\n",
      "            classIdx = likelihoods[i] > likelihoods[classIdx] ? i : classIdx;\n",
      "        }\n",
      "        return classIdx;\n",
      "    };\n",
      "\n",
      "};\n",
      "\n",
      "if (typeof process !== 'undefined' && typeof process.argv !== 'undefined') {\n",
      "    if (process.argv.length - 2 === 4) {\n",
      "\n",
      "        // Features:\n",
      "        var features = process.argv.slice(2);\n",
      "\n",
      "        // Parameters:\n",
      "        var priors = [0.333333333333, 0.333333333333, 0.333333333333];\n",
      "        var sigmas = [[0.121764003092, 0.142276003092, 0.0295040030924, 0.0112640030924], [0.261104003092, 0.0965000030924, 0.216400003092, 0.0383240030924], [0.396256003092, 0.101924003092, 0.298496003092, 0.0739240030924]];\n",
      "        var thetas = [[5.006, 3.418, 1.464, 0.244], [5.936, 2.77, 4.26, 1.326], [6.588, 2.974, 5.552, 2.026]];\n",
      "\n",
      "        // Estimator:\n",
      "        var clf = new GaussianNB(priors, sigmas, thetas);\n",
      "        var prediction = clf.predict(features);\n",
      "        console.log(prediction);\n",
      "\n",
      "    }\n",
      "}\n",
      "CPU times: user 915 µs, sys: 831 µs, total: 1.75 ms\n",
      "Wall time: 984 µs\n"
     ]
    }
   ],
   "source": [
    "%%time\n",
    "\n",
    "from sklearn_porter import Porter\n",
    "\n",
    "porter = Porter(clf, language='js')\n",
    "output = porter.export()\n",
    "\n",
    "print(output)"
   ]
  },
  {
   "cell_type": "markdown",
   "metadata": {},
   "source": [
    "### Run classification in JavaScript:"
   ]
  },
  {
   "cell_type": "markdown",
   "metadata": {},
   "source": [
    "Save the transpiled estimator:"
   ]
  },
  {
   "cell_type": "code",
   "execution_count": 6,
   "metadata": {
    "collapsed": true
   },
   "outputs": [],
   "source": [
    "with open('GaussianNB.js', 'w') as f:\n",
    "    f.write(output)"
   ]
  },
  {
   "cell_type": "markdown",
   "metadata": {},
   "source": [
    "Prediction:"
   ]
  },
  {
   "cell_type": "code",
   "execution_count": 7,
   "metadata": {},
   "outputs": [
    {
     "name": "stdout",
     "output_type": "stream",
     "text": [
      "2\n"
     ]
    }
   ],
   "source": [
    "%%bash\n",
    "\n",
    "if hash node 2/dev/null; then\n",
    "    node GaussianNB.js 1 2 3 4\n",
    "fi"
   ]
  }
 ],
 "metadata": {
  "kernelspec": {
   "display_name": "Python 2",
   "language": "python",
   "name": "python2"
  },
  "language_info": {
   "codemirror_mode": {
    "name": "ipython",
    "version": 2
   },
   "file_extension": ".py",
   "mimetype": "text/x-python",
   "name": "python",
   "nbconvert_exporter": "python",
   "pygments_lexer": "ipython2",
   "version": "2.7.13"
  }
 },
 "nbformat": 4,
 "nbformat_minor": 2
}
