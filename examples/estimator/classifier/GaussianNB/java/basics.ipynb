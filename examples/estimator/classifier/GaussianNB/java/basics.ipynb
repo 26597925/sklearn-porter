{
 "cells": [
  {
   "cell_type": "markdown",
   "metadata": {},
   "source": [
    "# sklearn-porter\n",
    "\n",
    "Repository: https://github.com/nok/sklearn-porter\n",
    "\n",
    "## GaussianNB\n",
    "\n",
    "Documentation: [sklearn.naive_bayes.GaussianNB](http://scikit-learn.org/stable/modules/generated/sklearn.naive_bayes.GaussianNB.html)"
   ]
  },
  {
   "cell_type": "markdown",
   "metadata": {},
   "source": [
    "### Loading data:"
   ]
  },
  {
   "cell_type": "code",
   "execution_count": 1,
   "metadata": {},
   "outputs": [
    {
     "name": "stdout",
     "output_type": "stream",
     "text": [
      "((150, 4), (150,))\n"
     ]
    }
   ],
   "source": [
    "from sklearn.datasets import load_iris\n",
    "\n",
    "iris_data = load_iris()\n",
    "X = iris_data.data\n",
    "y = iris_data.target\n",
    "\n",
    "print(X.shape, y.shape)"
   ]
  },
  {
   "cell_type": "markdown",
   "metadata": {},
   "source": [
    "### Train classifier:"
   ]
  },
  {
   "cell_type": "code",
   "execution_count": 2,
   "metadata": {},
   "outputs": [
    {
     "data": {
      "text/plain": [
       "GaussianNB(priors=None)"
      ]
     },
     "execution_count": 2,
     "metadata": {},
     "output_type": "execute_result"
    }
   ],
   "source": [
    "from sklearn.naive_bayes import GaussianNB\n",
    "\n",
    "clf = GaussianNB()\n",
    "clf.fit(X, y)"
   ]
  },
  {
   "cell_type": "markdown",
   "metadata": {},
   "source": [
    "### Transpile classifier:"
   ]
  },
  {
   "cell_type": "code",
   "execution_count": 4,
   "metadata": {
    "scrolled": false
   },
   "outputs": [
    {
     "name": "stdout",
     "output_type": "stream",
     "text": [
      "class GaussianNB {\n",
      "\n",
      "    private double[] priors;\n",
      "    private double[][] sigmas;\n",
      "    private double[][] thetas;\n",
      "\n",
      "    public GaussianNB(double[] priors, double[][] sigmas, double[][] thetas) {\n",
      "        this.priors = priors;\n",
      "        this.sigmas = sigmas;\n",
      "        this.thetas = thetas;\n",
      "    }\n",
      "\n",
      "    public int predict(double[] features) {\n",
      "        double[] likelihoods = new double[this.sigmas.length];\n",
      "    \n",
      "        for (int i = 0, il = this.sigmas.length; i < il; i++) {\n",
      "            double sum = 0.;\n",
      "            for (int j = 0, jl = this.sigmas[0].length; j < jl; j++) {\n",
      "                sum += Math.log(2. * Math.PI * this.sigmas[i][j]);\n",
      "            }\n",
      "            double nij = -0.5 * sum;\n",
      "            sum = 0.;\n",
      "            for (int j = 0, jl = this.sigmas[0].length; j < jl; j++) {\n",
      "                sum += Math.pow(features[j] - this.thetas[i][j], 2.) / this.sigmas[i][j];\n",
      "            }\n",
      "            nij -= 0.5 * sum;\n",
      "            likelihoods[i] = Math.log(this.priors[i]) + nij;\n",
      "        }\n",
      "    \n",
      "        int classIdx = 0;\n",
      "        for (int i = 0, l = likelihoods.length; i < l; i++) {\n",
      "            classIdx = likelihoods[i] > likelihoods[classIdx] ? i : classIdx;\n",
      "        }\n",
      "        return classIdx;\n",
      "    }\n",
      "\n",
      "    public static void main(String[] args) {\n",
      "        if (args.length == 4) {\n",
      "\n",
      "            // Features:\n",
      "            double[] features = new double[args.length];\n",
      "            for (int i = 0, l = args.length; i < l; i++) {\n",
      "                features[i] = Double.parseDouble(args[i]);\n",
      "            }\n",
      "\n",
      "            // Parameters:\n",
      "            double[] priors = {0.333333333333, 0.333333333333, 0.333333333333};\n",
      "            double[][] sigmas = {{0.121764003092, 0.142276003092, 0.0295040030924, 0.0112640030924}, {0.261104003092, 0.0965000030924, 0.216400003092, 0.0383240030924}, {0.396256003092, 0.101924003092, 0.298496003092, 0.0739240030924}};\n",
      "            double[][] thetas = {{5.006, 3.418, 1.464, 0.244}, {5.936, 2.77, 4.26, 1.326}, {6.588, 2.974, 5.552, 2.026}};\n",
      "\n",
      "            // Prediction:\n",
      "            GaussianNB clf = new GaussianNB(priors, sigmas, thetas);\n",
      "            int estimation = clf.predict(features);\n",
      "            System.out.println(estimation);\n",
      "\n",
      "        }\n",
      "    }\n",
      "}\n",
      "CPU times: user 1.06 ms, sys: 777 µs, total: 1.83 ms\n",
      "Wall time: 1.15 ms\n"
     ]
    }
   ],
   "source": [
    "%%time\n",
    "\n",
    "from sklearn_porter import Porter\n",
    "\n",
    "porter = Porter(clf)\n",
    "output = porter.export()\n",
    "\n",
    "print(output)"
   ]
  },
  {
   "cell_type": "markdown",
   "metadata": {},
   "source": [
    "### Run classification in Java:"
   ]
  },
  {
   "cell_type": "markdown",
   "metadata": {},
   "source": [
    "Save the transpiled estimator:"
   ]
  },
  {
   "cell_type": "code",
   "execution_count": 5,
   "metadata": {
    "collapsed": true
   },
   "outputs": [],
   "source": [
    "with open('GaussianNB.java', 'w') as f:\n",
    "    f.write(output)"
   ]
  },
  {
   "cell_type": "markdown",
   "metadata": {},
   "source": [
    "Compiling:"
   ]
  },
  {
   "cell_type": "code",
   "execution_count": 6,
   "metadata": {
    "collapsed": true
   },
   "outputs": [],
   "source": [
    "%%bash\n",
    "\n",
    "javac -cp . GaussianNB.java"
   ]
  },
  {
   "cell_type": "markdown",
   "metadata": {},
   "source": [
    "Prediction:"
   ]
  },
  {
   "cell_type": "code",
   "execution_count": 7,
   "metadata": {},
   "outputs": [
    {
     "name": "stdout",
     "output_type": "stream",
     "text": [
      "2\n"
     ]
    }
   ],
   "source": [
    "%%bash\n",
    "\n",
    "java -cp . GaussianNB 1 2 3 4"
   ]
  }
 ],
 "metadata": {
  "kernelspec": {
   "display_name": "Python 2",
   "language": "python",
   "name": "python2"
  },
  "language_info": {
   "codemirror_mode": {
    "name": "ipython",
    "version": 2
   },
   "file_extension": ".py",
   "mimetype": "text/x-python",
   "name": "python",
   "nbconvert_exporter": "python",
   "pygments_lexer": "ipython2",
   "version": "2.7.13"
  }
 },
 "nbformat": 4,
 "nbformat_minor": 2
}
