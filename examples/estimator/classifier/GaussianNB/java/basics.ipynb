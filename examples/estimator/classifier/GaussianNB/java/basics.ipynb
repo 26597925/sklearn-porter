{
 "cells": [
  {
   "cell_type": "markdown",
   "metadata": {},
   "source": [
    "# sklearn-porter\n",
    "\n",
    "Repository: https://github.com/nok/sklearn-porter\n",
    "\n",
    "## GaussianNB\n",
    "\n",
    "Documentation: [sklearn.naive_bayes.GaussianNB](http://scikit-learn.org/stable/modules/generated/sklearn.naive_bayes.GaussianNB.html)"
   ]
  },
  {
   "cell_type": "markdown",
   "metadata": {},
   "source": [
    "### Loading data:"
   ]
  },
  {
   "cell_type": "code",
   "execution_count": 2,
   "metadata": {},
   "outputs": [
    {
     "name": "stdout",
     "output_type": "stream",
     "text": [
      "(150, 4) (150,)\n"
     ]
    }
   ],
   "source": [
    "from sklearn.datasets import load_iris\n",
    "\n",
    "iris_data = load_iris()\n",
    "X, y = iris_data.data, iris_data.target\n",
    "\n",
    "print X.shape, y.shape"
   ]
  },
  {
   "cell_type": "markdown",
   "metadata": {},
   "source": [
    "### Train classifier:"
   ]
  },
  {
   "cell_type": "code",
   "execution_count": 3,
   "metadata": {},
   "outputs": [
    {
     "data": {
      "text/plain": [
       "GaussianNB()"
      ]
     },
     "execution_count": 3,
     "metadata": {},
     "output_type": "execute_result"
    }
   ],
   "source": [
    "from sklearn.naive_bayes import GaussianNB\n",
    "\n",
    "clf = GaussianNB()\n",
    "clf.fit(X, y)"
   ]
  },
  {
   "cell_type": "markdown",
   "metadata": {},
   "source": [
    "### Transpile classifier:"
   ]
  },
  {
   "cell_type": "code",
   "execution_count": 4,
   "metadata": {
    "scrolled": false
   },
   "outputs": [
    {
     "name": "stdout",
     "output_type": "stream",
     "text": [
      "class Brain {\n",
      "\n",
      "    public static int predict(double[] atts) {\n",
      "        if (atts.length != 4) {\n",
      "            return -1;\n",
      "        }\n",
      "        int i, j;\n",
      "    \n",
      "        double[] priors = {0.33333333333333331, 0.33333333333333331, 0.33333333333333331};\n",
      "        double[][] sigmas = {{0.12176400309242481, 0.14227600309242491, 0.029504003092424898, 0.011264003092424885}, {0.26110400309242499, 0.096500003092424902, 0.21640000309242502, 0.038324003092424869}, {0.39625600309242481, 0.10192400309242496, 0.29849600309242508, 0.073924003092424875}};\n",
      "        double[][] thetas = {{5.0059999999999993, 3.4180000000000006, 1.464, 0.24399999999999991}, {5.9359999999999999, 2.7700000000000005, 4.2599999999999998, 1.3259999999999998}, {6.5879999999999983, 2.9739999999999998, 5.5519999999999996, 2.0259999999999998}};\n",
      "        double[] likelihoods = new double[3];\n",
      "    \n",
      "        for (i = 0; i < 3; i++) {\n",
      "            double sum = 0.;\n",
      "            for (j = 0; j < 4; j++) {\n",
      "                sum += Math.log(2. * Math.PI * sigmas[i][j]);\n",
      "            }\n",
      "            double nij = -0.5 * sum;\n",
      "            sum = 0.;\n",
      "            for (j = 0; j < 4; j++) {\n",
      "                sum += Math.pow(atts[j] - thetas[i][j], 2.) / sigmas[i][j];\n",
      "            }\n",
      "            nij -= 0.5 * sum;\n",
      "            likelihoods[i] = Math.log(priors[i]) + nij;\n",
      "        }\n",
      "    \n",
      "        double highestLikeli = Double.NEGATIVE_INFINITY;\n",
      "        int classIndex = -1;\n",
      "        for (i = 0; i < 3; i++) {\n",
      "            if (likelihoods[i] > highestLikeli) {\n",
      "                highestLikeli = likelihoods[i];\n",
      "                classIndex = i;\n",
      "            }\n",
      "        }\n",
      "        return classIndex;\n",
      "    }\n",
      "\n",
      "    public static void main(String[] args) {\n",
      "        if (args.length == 4) {\n",
      "            double[] atts = new double[args.length];\n",
      "            for (int i = 0, l = args.length; i < l; i++) {\n",
      "                atts[i] = Double.parseDouble(args[i]);\n",
      "            }\n",
      "            System.out.println(Brain.predict(atts));\n",
      "        }\n",
      "    }\n",
      "}\n"
     ]
    }
   ],
   "source": [
    "from sklearn_porter import Porter\n",
    "\n",
    "output = Porter(clf).export()\n",
    "\n",
    "print output"
   ]
  }
 ],
 "metadata": {
  "kernelspec": {
   "display_name": "Python 2",
   "language": "python",
   "name": "python2"
  },
  "language_info": {
   "codemirror_mode": {
    "name": "ipython",
    "version": 2
   },
   "file_extension": ".py",
   "mimetype": "text/x-python",
   "name": "python",
   "nbconvert_exporter": "python",
   "pygments_lexer": "ipython2",
   "version": "2.7.12"
  }
 },
 "nbformat": 4,
 "nbformat_minor": 2
}
