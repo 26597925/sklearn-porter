{
 "cells": [
  {
   "cell_type": "markdown",
   "metadata": {},
   "source": [
    "# sklearn-porter\n",
    "\n",
    "Repository: https://github.com/nok/sklearn-porter\n",
    "\n",
    "## BernoulliNB\n",
    "\n",
    "Documentation: [sklearn.naive_bayes.BernoulliNB](http://scikit-learn.org/stable/modules/generated/sklearn.naive_bayes.BernoulliNB.html)"
   ]
  },
  {
   "cell_type": "markdown",
   "metadata": {},
   "source": [
    "### Loading data:"
   ]
  },
  {
   "cell_type": "code",
   "execution_count": 1,
   "metadata": {},
   "outputs": [
    {
     "name": "stdout",
     "output_type": "stream",
     "text": [
      "((150, 4), (150,))\n"
     ]
    }
   ],
   "source": [
    "from sklearn.datasets import load_iris\n",
    "\n",
    "iris_data = load_iris()\n",
    "X = iris_data.data\n",
    "y = iris_data.target\n",
    "\n",
    "print(X.shape, y.shape)"
   ]
  },
  {
   "cell_type": "markdown",
   "metadata": {},
   "source": [
    "### Train classifier:"
   ]
  },
  {
   "cell_type": "code",
   "execution_count": 2,
   "metadata": {},
   "outputs": [
    {
     "data": {
      "text/plain": [
       "BernoulliNB(alpha=1.0, binarize=0.0, class_prior=None, fit_prior=True)"
      ]
     },
     "execution_count": 2,
     "metadata": {},
     "output_type": "execute_result"
    }
   ],
   "source": [
    "from sklearn.naive_bayes import BernoulliNB\n",
    "\n",
    "clf = BernoulliNB()\n",
    "clf.fit(X, y)"
   ]
  },
  {
   "cell_type": "markdown",
   "metadata": {},
   "source": [
    "### Transpile classifier:"
   ]
  },
  {
   "cell_type": "code",
   "execution_count": 3,
   "metadata": {
    "scrolled": false
   },
   "outputs": [
    {
     "name": "stdout",
     "output_type": "stream",
     "text": [
      "var BernoulliNB = function(priors, negProbs, delProbs) {\n",
      "\n",
      "    this.priors = priors;\n",
      "    this.negProbs = negProbs;\n",
      "    this.delProbs = delProbs;\n",
      "\n",
      "    this.predict = function(features) {\n",
      "        var jll = new Array(3);\n",
      "        for (var i = 0; i < 3; i++) {\n",
      "            var sum = 0.;\n",
      "            for (var j = 0; j < 4; j++) {\n",
      "                sum += features[i] * this.delProbs[j][i];\n",
      "            }\n",
      "            jll[i] = sum;\n",
      "        }\n",
      "        for (var i = 0; i < 3; i++) {\n",
      "            var sum = 0.;\n",
      "            for (var j = 0; j < 4; j++) {\n",
      "                sum += this.negProbs[i][j];\n",
      "            }\n",
      "            jll[i] += this.priors[i] + sum;\n",
      "        }\n",
      "    \n",
      "        var highestLikeli = -1;\n",
      "        var classIndex = -1;\n",
      "        for (var i = 0; i < 3; i++) {\n",
      "            if (jll[i] > highestLikeli) {\n",
      "                highestLikeli = jll[i];\n",
      "                classIndex = i;\n",
      "            }\n",
      "        }\n",
      "        return classIndex;\n",
      "    };\n",
      "\n",
      "};\n",
      "\n",
      "if (typeof process !== 'undefined' && typeof process.argv !== 'undefined') {\n",
      "    if (process.argv.length - 2 === 4) {\n",
      "\n",
      "        // Parameters:\n",
      "        var priors = [-1.0986122886681096, -1.0986122886681096, -1.0986122886681096];\n",
      "        var negProbs = [[-3.9512437185814138, -3.9512437185814138, -3.9512437185814138, -3.9512437185814138], [-3.9512437185814138, -3.9512437185814138, -3.9512437185814138, -3.9512437185814138], [-3.9512437185814138, -3.9512437185814138, -3.9512437185814138, -3.9512437185814138]];\n",
      "        var delProbs = [[3.931825632724312, 3.931825632724312, 3.931825632724312], [3.931825632724312, 3.931825632724312, 3.931825632724312], [3.931825632724312, 3.931825632724312, 3.931825632724312], [3.931825632724312, 3.931825632724312, 3.931825632724312]];\n",
      "\n",
      "        // Estimator:\n",
      "        const brain = new BernoulliNB(priors, negProbs, delProbs);\n",
      "        var features = process.argv.slice(2);\n",
      "        var prediction = brain.predict(features);\n",
      "        console.log(prediction);\n",
      "\n",
      "    }\n",
      "}\n"
     ]
    }
   ],
   "source": [
    "from sklearn_porter import Porter\n",
    "\n",
    "porter = Porter(clf, language='js')\n",
    "output = porter.export()\n",
    "\n",
    "print(output)"
   ]
  }
 ],
 "metadata": {
  "kernelspec": {
   "display_name": "Python 2",
   "language": "python",
   "name": "python2"
  },
  "language_info": {
   "codemirror_mode": {
    "name": "ipython",
    "version": 2
   },
   "file_extension": ".py",
   "mimetype": "text/x-python",
   "name": "python",
   "nbconvert_exporter": "python",
   "pygments_lexer": "ipython2",
   "version": "2.7.13"
  }
 },
 "nbformat": 4,
 "nbformat_minor": 2
}
