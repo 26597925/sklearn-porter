{
 "cells": [
  {
   "cell_type": "markdown",
   "metadata": {},
   "source": [
    "# sklearn-porter\n",
    "\n",
    "Repository: https://github.com/nok/sklearn-porter\n",
    "\n",
    "## BernoulliNB\n",
    "\n",
    "Documentation: [sklearn.naive_bayes.BernoulliNB](http://scikit-learn.org/stable/modules/generated/sklearn.naive_bayes.BernoulliNB.html)"
   ]
  },
  {
   "cell_type": "markdown",
   "metadata": {},
   "source": [
    "### Loading data:"
   ]
  },
  {
   "cell_type": "code",
   "execution_count": 1,
   "metadata": {},
   "outputs": [
    {
     "name": "stdout",
     "output_type": "stream",
     "text": [
      "((150, 4), (150,))\n"
     ]
    }
   ],
   "source": [
    "from sklearn.datasets import load_iris\n",
    "\n",
    "iris_data = load_iris()\n",
    "X = iris_data.data\n",
    "y = iris_data.target\n",
    "\n",
    "print(X.shape, y.shape)"
   ]
  },
  {
   "cell_type": "markdown",
   "metadata": {},
   "source": [
    "### Train classifier:"
   ]
  },
  {
   "cell_type": "code",
   "execution_count": 2,
   "metadata": {},
   "outputs": [
    {
     "data": {
      "text/plain": [
       "BernoulliNB(alpha=1.0, binarize=0.0, class_prior=None, fit_prior=True)"
      ]
     },
     "execution_count": 2,
     "metadata": {},
     "output_type": "execute_result"
    }
   ],
   "source": [
    "from sklearn.naive_bayes import BernoulliNB\n",
    "\n",
    "clf = BernoulliNB()\n",
    "clf.fit(X, y)"
   ]
  },
  {
   "cell_type": "markdown",
   "metadata": {},
   "source": [
    "### Transpile classifier:"
   ]
  },
  {
   "cell_type": "code",
   "execution_count": 4,
   "metadata": {
    "scrolled": false
   },
   "outputs": [
    {
     "name": "stdout",
     "output_type": "stream",
     "text": [
      "var BernoulliNB = function(priors, negProbs, delProbs) {\n",
      "\n",
      "    this.priors = priors;\n",
      "    this.negProbs = negProbs;\n",
      "    this.delProbs = delProbs;\n",
      "\n",
      "    this.predict = function(features) {\n",
      "        var nClasses = this.priors.length,\n",
      "            nFeatures = this.delProbs.length;\n",
      "    \n",
      "        var jll = new Array(nClasses);\n",
      "        for (var i = 0; i < nClasses; i++) {\n",
      "            var sum = 0.;\n",
      "            for (var j = 0; j < nFeatures; j++) {\n",
      "                sum += features[i] * this.delProbs[j][i];\n",
      "            }\n",
      "            jll[i] = sum;\n",
      "        }\n",
      "        for (var i = 0; i < nClasses; i++) {\n",
      "            var sum = 0.;\n",
      "            for (var j = 0; j < nFeatures; j++) {\n",
      "                sum += this.negProbs[i][j];\n",
      "            }\n",
      "            jll[i] += this.priors[i] + sum;\n",
      "        }\n",
      "        var classIdx = 0;\n",
      "    \n",
      "        for (var i = 0; i < nClasses; i++) {\n",
      "            classIdx = jll[i] > jll[classIdx] ? i : classIdx;\n",
      "        }\n",
      "        return classIdx;\n",
      "    };\n",
      "\n",
      "};\n",
      "\n",
      "if (typeof process !== 'undefined' && typeof process.argv !== 'undefined') {\n",
      "    if (process.argv.length - 2 === 4) {\n",
      "\n",
      "        // Features:\n",
      "        var features = process.argv.slice(2);\n",
      "\n",
      "        // Parameters:\n",
      "        var priors = [-1.09861228867, -1.09861228867, -1.09861228867];\n",
      "        var negProbs = [[-3.95124371858, -3.95124371858, -3.95124371858, -3.95124371858], [-3.95124371858, -3.95124371858, -3.95124371858, -3.95124371858], [-3.95124371858, -3.95124371858, -3.95124371858, -3.95124371858]];\n",
      "        var delProbs = [[3.93182563272, 3.93182563272, 3.93182563272], [3.93182563272, 3.93182563272, 3.93182563272], [3.93182563272, 3.93182563272, 3.93182563272], [3.93182563272, 3.93182563272, 3.93182563272]];\n",
      "\n",
      "        // Estimator:\n",
      "        var clf = new BernoulliNB(priors, negProbs, delProbs);\n",
      "        var prediction = clf.predict(features);\n",
      "        console.log(prediction);\n",
      "\n",
      "    }\n",
      "}\n",
      "CPU times: user 855 µs, sys: 802 µs, total: 1.66 ms\n",
      "Wall time: 858 µs\n"
     ]
    }
   ],
   "source": [
    "%%time\n",
    "\n",
    "from sklearn_porter import Porter\n",
    "\n",
    "porter = Porter(clf, language='js')\n",
    "output = porter.export()\n",
    "\n",
    "print(output)"
   ]
  },
  {
   "cell_type": "markdown",
   "metadata": {},
   "source": [
    "### Run classification in JavaScript:"
   ]
  },
  {
   "cell_type": "markdown",
   "metadata": {},
   "source": [
    "Save the transpiled estimator:"
   ]
  },
  {
   "cell_type": "code",
   "execution_count": 5,
   "metadata": {
    "collapsed": true
   },
   "outputs": [],
   "source": [
    "with open('BernoulliNB.js', 'w') as f:\n",
    "    f.write(output)"
   ]
  },
  {
   "cell_type": "markdown",
   "metadata": {},
   "source": [
    "Prediction:"
   ]
  },
  {
   "cell_type": "code",
   "execution_count": 6,
   "metadata": {},
   "outputs": [
    {
     "name": "stdout",
     "output_type": "stream",
     "text": [
      "2\n"
     ]
    }
   ],
   "source": [
    "%%bash\n",
    "\n",
    "if hash node 2/dev/null; then\n",
    "    node BernoulliNB.js 1 2 3 4\n",
    "fi"
   ]
  }
 ],
 "metadata": {
  "kernelspec": {
   "display_name": "Python 2",
   "language": "python",
   "name": "python2"
  },
  "language_info": {
   "codemirror_mode": {
    "name": "ipython",
    "version": 2
   },
   "file_extension": ".py",
   "mimetype": "text/x-python",
   "name": "python",
   "nbconvert_exporter": "python",
   "pygments_lexer": "ipython2",
   "version": "2.7.13"
  }
 },
 "nbformat": 4,
 "nbformat_minor": 2
}
