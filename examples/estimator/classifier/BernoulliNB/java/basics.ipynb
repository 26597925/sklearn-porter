{
 "cells": [
  {
   "cell_type": "markdown",
   "metadata": {},
   "source": [
    "# sklearn-porter\n",
    "\n",
    "Repository: https://github.com/nok/sklearn-porter\n",
    "\n",
    "## BernoulliNB\n",
    "\n",
    "Documentation: [sklearn.naive_bayes.BernoulliNB](http://scikit-learn.org/stable/modules/generated/sklearn.naive_bayes.BernoulliNB.html)"
   ]
  },
  {
   "cell_type": "markdown",
   "metadata": {},
   "source": [
    "### Loading data:"
   ]
  },
  {
   "cell_type": "code",
   "execution_count": 2,
   "metadata": {},
   "outputs": [
    {
     "name": "stdout",
     "output_type": "stream",
     "text": [
      "(150, 4) (150,)\n"
     ]
    }
   ],
   "source": [
    "from sklearn.datasets import load_iris\n",
    "\n",
    "iris_data = load_iris()\n",
    "X, y = iris_data.data, iris_data.target\n",
    "\n",
    "print X.shape, y.shape"
   ]
  },
  {
   "cell_type": "markdown",
   "metadata": {},
   "source": [
    "### Train classifier:"
   ]
  },
  {
   "cell_type": "code",
   "execution_count": 3,
   "metadata": {},
   "outputs": [
    {
     "data": {
      "text/plain": [
       "BernoulliNB(alpha=1.0, binarize=0.0, class_prior=None, fit_prior=True)"
      ]
     },
     "execution_count": 3,
     "metadata": {},
     "output_type": "execute_result"
    }
   ],
   "source": [
    "from sklearn.naive_bayes import BernoulliNB\n",
    "\n",
    "clf = BernoulliNB()\n",
    "clf.fit(X, y)"
   ]
  },
  {
   "cell_type": "markdown",
   "metadata": {},
   "source": [
    "### Transpile classifier:"
   ]
  },
  {
   "cell_type": "code",
   "execution_count": 4,
   "metadata": {
    "scrolled": false
   },
   "outputs": [
    {
     "name": "stdout",
     "output_type": "stream",
     "text": [
      "class Brain {\n",
      "\n",
      "    public static int predict(double[] atts) {\n",
      "        if (atts.length != 4) {\n",
      "            return -1;\n",
      "        }\n",
      "        int i, j;\n",
      "    \n",
      "        double[] priors = {-1.0986122886681096, -1.0986122886681096, -1.0986122886681096};\n",
      "        double[][] negProbs = {{-3.9512437185814138, -3.9512437185814138, -3.9512437185814138, -3.9512437185814138}, {-3.9512437185814138, -3.9512437185814138, -3.9512437185814138, -3.9512437185814138}, {-3.9512437185814138, -3.9512437185814138, -3.9512437185814138, -3.9512437185814138}};\n",
      "        double[][] delProbs = {{3.931825632724312, 3.931825632724312, 3.931825632724312}, {3.931825632724312, 3.931825632724312, 3.931825632724312}, {3.931825632724312, 3.931825632724312, 3.931825632724312}, {3.931825632724312, 3.931825632724312, 3.931825632724312}};\n",
      "    \n",
      "        double[] jll = new double[3];\n",
      "        for (i = 0; i < 3; i++) {\n",
      "            double sum = 0.;\n",
      "            for (j = 0; j < 4; j++) {\n",
      "                sum += atts[i] * delProbs[j][i];\n",
      "            }\n",
      "            jll[i] = sum;\n",
      "        }\n",
      "        for (i = 0; i < 3; i++) {\n",
      "            double sum = 0.;\n",
      "            for (j = 0; j < 4; j++) {\n",
      "                sum += negProbs[i][j];\n",
      "            }\n",
      "            jll[i] += priors[i] + sum;\n",
      "        }\n",
      "    \n",
      "        double highestLikeli = Double.NEGATIVE_INFINITY;\n",
      "        int classIndex = -1;\n",
      "        for (i = 0; i < 3; i++) {\n",
      "            if (jll[i] > highestLikeli) {\n",
      "                highestLikeli = jll[i];\n",
      "                classIndex = i;\n",
      "            }\n",
      "        }\n",
      "        return classIndex;\n",
      "    }\n",
      "\n",
      "    public static void main(String[] args) {\n",
      "        if (args.length == 4) {\n",
      "            double[] atts = new double[args.length];\n",
      "            for (int i = 0, l = args.length; i < l; i++) {\n",
      "                atts[i] = Double.parseDouble(args[i]);\n",
      "            }\n",
      "            System.out.println(Brain.predict(atts));\n",
      "        }\n",
      "    }\n",
      "}\n"
     ]
    }
   ],
   "source": [
    "from sklearn_porter import Porter\n",
    "\n",
    "output = Porter(clf).export()\n",
    "\n",
    "print output"
   ]
  }
 ],
 "metadata": {
  "kernelspec": {
   "display_name": "Python 2",
   "language": "python",
   "name": "python2"
  },
  "language_info": {
   "codemirror_mode": {
    "name": "ipython",
    "version": 2
   },
   "file_extension": ".py",
   "mimetype": "text/x-python",
   "name": "python",
   "nbconvert_exporter": "python",
   "pygments_lexer": "ipython2",
   "version": "2.7.12"
  }
 },
 "nbformat": 4,
 "nbformat_minor": 2
}
