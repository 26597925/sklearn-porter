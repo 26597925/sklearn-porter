{
 "cells": [
  {
   "cell_type": "markdown",
   "metadata": {},
   "source": [
    "# sklearn-porter\n",
    "\n",
    "Repository: https://github.com/nok/sklearn-porter\n",
    "\n",
    "## DecisionTreeClassifier\n",
    "\n",
    "Documentation: [sklearn.tree.DecisionTreeClassifier](http://scikit-learn.org/stable/modules/generated/sklearn.tree.DecisionTreeClassifier.html)"
   ]
  },
  {
   "cell_type": "markdown",
   "metadata": {},
   "source": [
    "### Loading data:"
   ]
  },
  {
   "cell_type": "code",
   "execution_count": 2,
   "metadata": {},
   "outputs": [
    {
     "name": "stdout",
     "output_type": "stream",
     "text": [
      "(150, 4) (150,)\n"
     ]
    }
   ],
   "source": [
    "from sklearn.datasets import load_iris\n",
    "\n",
    "iris_data = load_iris()\n",
    "X, y = iris_data.data, iris_data.target\n",
    "\n",
    "print X.shape, y.shape"
   ]
  },
  {
   "cell_type": "markdown",
   "metadata": {},
   "source": [
    "### Train classifier:"
   ]
  },
  {
   "cell_type": "code",
   "execution_count": 3,
   "metadata": {},
   "outputs": [
    {
     "data": {
      "text/plain": [
       "DecisionTreeClassifier(class_weight=None, criterion='gini', max_depth=None,\n",
       "            max_features=None, max_leaf_nodes=None, min_samples_leaf=1,\n",
       "            min_samples_split=2, min_weight_fraction_leaf=0.0,\n",
       "            presort=False, random_state=None, splitter='best')"
      ]
     },
     "execution_count": 3,
     "metadata": {},
     "output_type": "execute_result"
    }
   ],
   "source": [
    "from sklearn.tree import tree\n",
    "\n",
    "clf = tree.DecisionTreeClassifier()\n",
    "clf.fit(X, y)"
   ]
  },
  {
   "cell_type": "markdown",
   "metadata": {},
   "source": [
    "### Transpile classifier:"
   ]
  },
  {
   "cell_type": "code",
   "execution_count": 4,
   "metadata": {
    "scrolled": false
   },
   "outputs": [
    {
     "name": "stdout",
     "output_type": "stream",
     "text": [
      "#include <stdlib.h>\n",
      "#include <stdio.h>\n",
      "#include <math.h>\n",
      "\n",
      "int predict(float atts[3]) {\n",
      "\n",
      "    int classes[3];\n",
      "        \n",
      "    if (atts[2] <= 2.4500000476837158) {\n",
      "        classes[0] = 50; \n",
      "        classes[1] = 0; \n",
      "        classes[2] = 0; \n",
      "    } else {\n",
      "        if (atts[3] <= 1.75) {\n",
      "            if (atts[2] <= 4.9499998092651367) {\n",
      "                if (atts[3] <= 1.6500000953674316) {\n",
      "                    classes[0] = 0; \n",
      "                    classes[1] = 47; \n",
      "                    classes[2] = 0; \n",
      "                } else {\n",
      "                    classes[0] = 0; \n",
      "                    classes[1] = 0; \n",
      "                    classes[2] = 1; \n",
      "                }\n",
      "            } else {\n",
      "                if (atts[3] <= 1.5499999523162842) {\n",
      "                    classes[0] = 0; \n",
      "                    classes[1] = 0; \n",
      "                    classes[2] = 3; \n",
      "                } else {\n",
      "                    if (atts[0] <= 6.9499998092651367) {\n",
      "                        classes[0] = 0; \n",
      "                        classes[1] = 2; \n",
      "                        classes[2] = 0; \n",
      "                    } else {\n",
      "                        classes[0] = 0; \n",
      "                        classes[1] = 0; \n",
      "                        classes[2] = 1; \n",
      "                    }\n",
      "                }\n",
      "            }\n",
      "        } else {\n",
      "            if (atts[2] <= 4.8500003814697266) {\n",
      "                if (atts[0] <= 5.9499998092651367) {\n",
      "                    classes[0] = 0; \n",
      "                    classes[1] = 1; \n",
      "                    classes[2] = 0; \n",
      "                } else {\n",
      "                    classes[0] = 0; \n",
      "                    classes[1] = 0; \n",
      "                    classes[2] = 2; \n",
      "                }\n",
      "            } else {\n",
      "                classes[0] = 0; \n",
      "                classes[1] = 0; \n",
      "                classes[2] = 43; \n",
      "            }\n",
      "        }\n",
      "    }\n",
      "\n",
      "    int class_val = -1;\n",
      "    int class_idx = -1;\n",
      "    int i;\n",
      "    for (i = 0; i < 3; i++) {\n",
      "        if (classes[i] > class_val) {\n",
      "            class_idx = i;\n",
      "            class_val = classes[i];\n",
      "        }\n",
      "    }\n",
      "    return class_idx;\n",
      "}\n",
      "\n",
      "int main(int argc, const char * argv[]) {\n",
      "    float atts[argc-1];\n",
      "    int i;\n",
      "    for (i = 1; i < argc; i++) {\n",
      "        atts[i-1] = atof(argv[i]);\n",
      "    }\n",
      "    printf(\"%d\", predict(atts));\n",
      "    return 0;\n",
      "}\n"
     ]
    }
   ],
   "source": [
    "from sklearn_porter import Porter\n",
    "\n",
    "output = Porter(clf, language='c').export()\n",
    "\n",
    "print output"
   ]
  }
 ],
 "metadata": {
  "kernelspec": {
   "display_name": "Python 2",
   "language": "python",
   "name": "python2"
  },
  "language_info": {
   "codemirror_mode": {
    "name": "ipython",
    "version": 2
   },
   "file_extension": ".py",
   "mimetype": "text/x-python",
   "name": "python",
   "nbconvert_exporter": "python",
   "pygments_lexer": "ipython2",
   "version": "2.7.12"
  }
 },
 "nbformat": 4,
 "nbformat_minor": 2
}
