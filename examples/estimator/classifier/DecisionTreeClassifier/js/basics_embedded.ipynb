{
 "cells": [
  {
   "cell_type": "markdown",
   "metadata": {},
   "source": [
    "# sklearn-porter\n",
    "\n",
    "Repository: https://github.com/nok/sklearn-porter\n",
    "\n",
    "## DecisionTreeClassifier\n",
    "\n",
    "Documentation: [sklearn.tree.DecisionTreeClassifier](http://scikit-learn.org/stable/modules/generated/sklearn.tree.DecisionTreeClassifier.html)"
   ]
  },
  {
   "cell_type": "markdown",
   "metadata": {},
   "source": [
    "### Loading data:"
   ]
  },
  {
   "cell_type": "code",
   "execution_count": 1,
   "metadata": {},
   "outputs": [
    {
     "name": "stdout",
     "output_type": "stream",
     "text": [
      "((150, 4), (150,))\n"
     ]
    }
   ],
   "source": [
    "from sklearn.datasets import load_iris\n",
    "\n",
    "iris_data = load_iris()\n",
    "X = iris_data.data\n",
    "y = iris_data.target\n",
    "\n",
    "print(X.shape, y.shape)"
   ]
  },
  {
   "cell_type": "markdown",
   "metadata": {},
   "source": [
    "### Train classifier:"
   ]
  },
  {
   "cell_type": "code",
   "execution_count": 2,
   "metadata": {},
   "outputs": [
    {
     "data": {
      "text/plain": [
       "DecisionTreeClassifier(class_weight=None, criterion='gini', max_depth=None,\n",
       "            max_features=None, max_leaf_nodes=None,\n",
       "            min_impurity_decrease=0.0, min_impurity_split=None,\n",
       "            min_samples_leaf=1, min_samples_split=2,\n",
       "            min_weight_fraction_leaf=0.0, presort=False, random_state=None,\n",
       "            splitter='best')"
      ]
     },
     "execution_count": 2,
     "metadata": {},
     "output_type": "execute_result"
    }
   ],
   "source": [
    "from sklearn.tree import tree\n",
    "\n",
    "clf = tree.DecisionTreeClassifier()\n",
    "clf.fit(X, y)"
   ]
  },
  {
   "cell_type": "markdown",
   "metadata": {},
   "source": [
    "### Transpile classifier:"
   ]
  },
  {
   "cell_type": "code",
   "execution_count": 4,
   "metadata": {
    "scrolled": false
   },
   "outputs": [
    {
     "name": "stdout",
     "output_type": "stream",
     "text": [
      "var DecisionTreeClassifier = function() {\n",
      "\n",
      "    var findMax = function(nums) {\n",
      "        var index = 0;\n",
      "        for (var i = 0; i < nums.length; i++) {\n",
      "            index = nums[i] > nums[index] ? i : index;\n",
      "        }\n",
      "        return index;\n",
      "    };\n",
      "\n",
      "    this.predict = function(features) {\n",
      "        var classes = new Array(3);\n",
      "            \n",
      "        if (features[3] <= 0.800000011921) {\n",
      "            classes[0] = 50; \n",
      "            classes[1] = 0; \n",
      "            classes[2] = 0; \n",
      "        } else {\n",
      "            if (features[3] <= 1.75) {\n",
      "                if (features[2] <= 4.94999980927) {\n",
      "                    if (features[3] <= 1.65000009537) {\n",
      "                        classes[0] = 0; \n",
      "                        classes[1] = 47; \n",
      "                        classes[2] = 0; \n",
      "                    } else {\n",
      "                        classes[0] = 0; \n",
      "                        classes[1] = 0; \n",
      "                        classes[2] = 1; \n",
      "                    }\n",
      "                } else {\n",
      "                    if (features[3] <= 1.54999995232) {\n",
      "                        classes[0] = 0; \n",
      "                        classes[1] = 0; \n",
      "                        classes[2] = 3; \n",
      "                    } else {\n",
      "                        if (features[2] <= 5.44999980927) {\n",
      "                            classes[0] = 0; \n",
      "                            classes[1] = 2; \n",
      "                            classes[2] = 0; \n",
      "                        } else {\n",
      "                            classes[0] = 0; \n",
      "                            classes[1] = 0; \n",
      "                            classes[2] = 1; \n",
      "                        }\n",
      "                    }\n",
      "                }\n",
      "            } else {\n",
      "                if (features[2] <= 4.85000038147) {\n",
      "                    if (features[0] <= 5.94999980927) {\n",
      "                        classes[0] = 0; \n",
      "                        classes[1] = 1; \n",
      "                        classes[2] = 0; \n",
      "                    } else {\n",
      "                        classes[0] = 0; \n",
      "                        classes[1] = 0; \n",
      "                        classes[2] = 2; \n",
      "                    }\n",
      "                } else {\n",
      "                    classes[0] = 0; \n",
      "                    classes[1] = 0; \n",
      "                    classes[2] = 43; \n",
      "                }\n",
      "            }\n",
      "        }\n",
      "    \n",
      "        return findMax(classes);\n",
      "    };\n",
      "\n",
      "};\n",
      "\n",
      "if (typeof process !== 'undefined' && typeof process.argv !== 'undefined') {\n",
      "    if (process.argv.length - 2 === 4) {\n",
      "\n",
      "        // Features:\n",
      "        var features = process.argv.slice(2);\n",
      "\n",
      "        // Prediction:\n",
      "        var clf = new DecisionTreeClassifier();\n",
      "        var prediction = clf.predict(features);\n",
      "        console.log(prediction);\n",
      "\n",
      "    }\n",
      "}\n",
      "CPU times: user 1.96 ms, sys: 1.02 ms, total: 2.98 ms\n",
      "Wall time: 2.63 ms\n"
     ]
    }
   ],
   "source": [
    "%%time\n",
    "\n",
    "from sklearn_porter import Porter\n",
    "\n",
    "porter = Porter(clf, language='js')\n",
    "output = porter.export(embed_data=True)\n",
    "\n",
    "print(output)"
   ]
  },
  {
   "cell_type": "markdown",
   "metadata": {},
   "source": [
    "### Run classification in JavaScript:"
   ]
  },
  {
   "cell_type": "markdown",
   "metadata": {},
   "source": [
    "Save the transpiled estimator:"
   ]
  },
  {
   "cell_type": "code",
   "execution_count": 5,
   "metadata": {
    "collapsed": true
   },
   "outputs": [],
   "source": [
    "with open('DecisionTreeClassifier.js', 'w') as f:\n",
    "    f.write(output)"
   ]
  },
  {
   "cell_type": "markdown",
   "metadata": {},
   "source": [
    "Prediction:"
   ]
  },
  {
   "cell_type": "code",
   "execution_count": 6,
   "metadata": {},
   "outputs": [
    {
     "name": "stdout",
     "output_type": "stream",
     "text": [
      "1\n"
     ]
    }
   ],
   "source": [
    "%%bash\n",
    "\n",
    "if hash node 2/dev/null; then\n",
    "    node DecisionTreeClassifier.js 1 2 3 4\n",
    "fi"
   ]
  }
 ],
 "metadata": {
  "kernelspec": {
   "display_name": "Python 2",
   "language": "python",
   "name": "python2"
  },
  "language_info": {
   "codemirror_mode": {
    "name": "ipython",
    "version": 2
   },
   "file_extension": ".py",
   "mimetype": "text/x-python",
   "name": "python",
   "nbconvert_exporter": "python",
   "pygments_lexer": "ipython2",
   "version": "2.7.13"
  }
 },
 "nbformat": 4,
 "nbformat_minor": 2
}
