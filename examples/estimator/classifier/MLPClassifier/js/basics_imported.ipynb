{
 "cells": [
  {
   "cell_type": "markdown",
   "metadata": {},
   "source": [
    "# sklearn-porter\n",
    "\n",
    "Repository: https://github.com/nok/sklearn-porter\n",
    "\n",
    "## MLPClassifier\n",
    "\n",
    "Documentation: [sklearn.neural_network.MLPClassifier](http://scikit-learn.org/stable/modules/generated/sklearn.neural_network.MLPClassifier.html)"
   ]
  },
  {
   "cell_type": "markdown",
   "metadata": {},
   "source": [
    "### Loading data:"
   ]
  },
  {
   "cell_type": "code",
   "execution_count": 1,
   "metadata": {},
   "outputs": [
    {
     "name": "stdout",
     "output_type": "stream",
     "text": [
      "((150, 4), (150,))\n"
     ]
    }
   ],
   "source": [
    "from sklearn.datasets import load_iris\n",
    "\n",
    "iris_data = load_iris()\n",
    "X = iris_data.data\n",
    "y = iris_data.target\n",
    "\n",
    "print(X.shape, y.shape)"
   ]
  },
  {
   "cell_type": "markdown",
   "metadata": {},
   "source": [
    "### Train classifier:"
   ]
  },
  {
   "cell_type": "code",
   "execution_count": 2,
   "metadata": {},
   "outputs": [
    {
     "data": {
      "text/plain": [
       "MLPClassifier(activation='relu', alpha=0.0001, batch_size='auto', beta_1=0.9,\n",
       "       beta_2=0.999, early_stopping=False, epsilon=1e-08,\n",
       "       hidden_layer_sizes=50, learning_rate='constant',\n",
       "       learning_rate_init=0.1, max_iter=500, momentum=0.9,\n",
       "       nesterovs_momentum=True, power_t=0.5, random_state=1, shuffle=True,\n",
       "       solver='sgd', tol=0.0001, validation_fraction=0.1, verbose=False,\n",
       "       warm_start=False)"
      ]
     },
     "execution_count": 2,
     "metadata": {},
     "output_type": "execute_result"
    }
   ],
   "source": [
    "from sklearn.neural_network import MLPClassifier\n",
    "\n",
    "clf = MLPClassifier(activation='relu', hidden_layer_sizes=50,\n",
    "                    max_iter=500, alpha=1e-4, solver='sgd',\n",
    "                    tol=1e-4, random_state=1, learning_rate_init=.1)\n",
    "clf.fit(X, y)"
   ]
  },
  {
   "cell_type": "markdown",
   "metadata": {},
   "source": [
    "### Transpile classifier:"
   ]
  },
  {
   "cell_type": "code",
   "execution_count": 4,
   "metadata": {
    "scrolled": false
   },
   "outputs": [
    {
     "name": "stdout",
     "output_type": "stream",
     "text": [
      "if (typeof XMLHttpRequest === 'undefined') {\n",
      "    var XMLHttpRequest = require(\"xmlhttprequest\").XMLHttpRequest;\n",
      "}\n",
      "\n",
      "var MLPClassifier = function(jsonFile) {\n",
      "    this.mdl = undefined;\n",
      "\n",
      "    var promise = new Promise(function(resolve, reject) {\n",
      "        var httpRequest = new XMLHttpRequest();\n",
      "        httpRequest.onreadystatechange = function() {\n",
      "            if (httpRequest.readyState === 4) {\n",
      "                if (httpRequest.status === 200) {\n",
      "                    resolve(JSON.parse(httpRequest.responseText));\n",
      "                } else {\n",
      "                    reject(new Error(httpRequest.status + ': ' + httpRequest.statusText));\n",
      "                }\n",
      "            }\n",
      "        };\n",
      "        httpRequest.open('GET', jsonFile, true);\n",
      "        httpRequest.send();\n",
      "    });\n",
      "\n",
      "    // Return max index:\n",
      "    var maxi = function(nums) {\n",
      "        var index = 0;\n",
      "        for (var i=0, l=nums.length; i < l; i++) {\n",
      "            index = nums[i] > nums[index] ? i : index;\n",
      "        }\n",
      "        return index;\n",
      "    };\n",
      "\n",
      "    // Compute the activation function:\n",
      "    var compute = function(activation, v) {\n",
      "        switch (activation) {\n",
      "            case 'LOGISTIC':\n",
      "                for (var i = 0, l = v.length; i < l; i++) {\n",
      "                    v[i] = 1. / (1. + Math.exp(-v[i]));\n",
      "                }\n",
      "                break;\n",
      "            case 'RELU':\n",
      "                for (var i = 0, l = v.length; i < l; i++) {\n",
      "                    v[i] = Math.max(0, v[i]);\n",
      "                }\n",
      "                break;\n",
      "            case 'TANH':\n",
      "                for (var i = 0, l = v.length; i < l; i++) {\n",
      "                    v[i] = Math.tanh(v[i]);\n",
      "                }\n",
      "                break;\n",
      "            case 'SOFTMAX':\n",
      "                var max = Number.NEGATIVE_INFINITY;\n",
      "                for (var i = 0, l = v.length; i < l; i++) {\n",
      "                    if (v[i] > max) {\n",
      "                        max = v[i];\n",
      "                    }\n",
      "                }\n",
      "                for (var i = 0, l = v.length; i < l; i++) {\n",
      "                    v[i] = Math.exp(v[i] - max);\n",
      "                }\n",
      "                var sum = 0.0;\n",
      "                for (var i = 0, l = v.length; i < l; i++) {\n",
      "                    sum += v[i];\n",
      "                }\n",
      "                for (var i = 0, l = v.length; i < l; i++) {\n",
      "                    v[i] /= sum;\n",
      "                }\n",
      "                break;\n",
      "        }\n",
      "        return v;\n",
      "    };\n",
      "\n",
      "    this.predict = function(neurons) {\n",
      "        return new Promise(function(resolve, reject) {\n",
      "            promise.then(function(mdl) {\n",
      "\n",
      "                // Initialization:\n",
      "                if (typeof this.mdl === 'undefined') {\n",
      "                    mdl.hidden_activation = mdl.hidden_activation.toUpperCase();\n",
      "                    mdl.output_activation = mdl.output_activation.toUpperCase();\n",
      "                    mdl.network = new Array(mdl.layers.length + 1);\n",
      "                    for (var i = 0, l = mdl.layers.length; i < l; i++) {\n",
      "                        mdl.network[i + 1] = new Array(mdl.layers[i]).fill(0.);\n",
      "                    }\n",
      "                    this.mdl = mdl;\n",
      "                }\n",
      "\n",
      "                // Feed forward:\n",
      "                this.mdl.network[0] = neurons;\n",
      "                for (var i = 0; i < this.mdl.network.length - 1; i++) {\n",
      "                    for (var j = 0; j < this.mdl.network[i + 1].length; j++) {\n",
      "                        for (var l = 0; l < this.mdl.network[i].length; l++) {\n",
      "                            this.mdl.network[i + 1][j] += this.mdl.network[i][l] * this.mdl.weights[i][l][j];\n",
      "                        }\n",
      "                        this.mdl.network[i + 1][j] += this.mdl.bias[i][j];\n",
      "                    }\n",
      "                    if ((i + 1) < (this.mdl.network.length - 1)) {\n",
      "                        this.mdl.network[i + 1] = compute(this.mdl.hidden_activation, this.mdl.network[i + 1]);\n",
      "                    }\n",
      "                }\n",
      "                this.mdl.network[this.mdl.network.length - 1] = compute(this.mdl.output_activation, this.mdl.network[this.mdl.network.length - 1]);\n",
      "\n",
      "                // Return result:\n",
      "                if (this.mdl.network[this.mdl.network.length - 1].length == 1) {\n",
      "                    if (this.mdl.network[this.mdl.network.length - 1][0] > .5) {\n",
      "                        resolve(1);\n",
      "                    }\n",
      "                    resolve(0);\n",
      "                } else {\n",
      "                    resolve(maxi(this.mdl.network[this.mdl.network.length - 1]));\n",
      "                }\n",
      "            }, function(error) {\n",
      "                reject(error);\n",
      "            });\n",
      "        });\n",
      "    };\n",
      "};\n",
      "\n",
      "if (typeof process !== 'undefined' && typeof process.argv !== 'undefined') {\n",
      "    if (process.argv[2].trim().endsWith('.json')) {\n",
      "\n",
      "        // Features:\n",
      "        var features = process.argv.slice(3);\n",
      "\n",
      "        // Parameters:\n",
      "        var json = process.argv[2];\n",
      "\n",
      "        // Estimator:\n",
      "        var clf = new MLPClassifier(json);\n",
      "\n",
      "        // Prediction:\n",
      "        clf.predict(features).then(function(prediction) {\n",
      "            console.log(prediction);\n",
      "        }, function(error) {\n",
      "            console.log(error);\n",
      "        });\n",
      "\n",
      "    }\n",
      "}\n",
      "CPU times: user 2.86 ms, sys: 2.16 ms, total: 5.02 ms\n",
      "Wall time: 3.2 ms\n"
     ]
    }
   ],
   "source": [
    "%%time\n",
    "\n",
    "from sklearn_porter import Porter\n",
    "\n",
    "porter = Porter(clf, language='js')\n",
    "output = porter.export(export_data=True)\n",
    "\n",
    "print(output)"
   ]
  },
  {
   "cell_type": "markdown",
   "metadata": {},
   "source": [
    "Parameters:"
   ]
  },
  {
   "cell_type": "code",
   "execution_count": 5,
   "metadata": {},
   "outputs": [
    {
     "name": "stdout",
     "output_type": "stream",
     "text": [
      "{\"layers\": [50, 3], \"hidden_activation\": \"relu\", \"bias\": [[0.300117412831, -0.0425109582742, 0.277070899844, 0.0943774726309, -0.0733281905725, -0.00933955526873, 0.0695403219466, 0.0462460742907, 0.18960048383, 0.0716234268183, -0.0700829247176, 0.262696429717, -0.268352731845, -0.372632092888, -0.243280561302, -0.0023141622986, -0.383001620941, 0.245752521721, 0.140033436341, -0.323320679505, -0.0916877462995, -0.162812991112, -0.246002103459, 0.252366689222, -0.260922018454, 0.16577135025, 0.0546761199647, 0.252554656275, 0.229822963595, 0.226740367211, -0.0267464894555, -0.0659017804652, 0.049427786875, -0.142854098844, -0.0967936486112, 0.0269475964514, -0.373961447321, -0.0839068403612, -0.0442157673404, 0.124738306572, -0.165039549604, 0.354483190841, 0.0519048101897, -0.273057623302, 0.19195282255, 0.0746874513633, -0.329952575591, -0.0532042133326, 0.119379224377, 0.279067851985], [0.381296063586, 0.540264689493, -0.722564061372]], \"weights\": [[[-0.0553181214964, -0.343121409862, -0.333253818064, -0.131776993694, -0.2354937653, -0.271771607197, -0.209157809647, 0.0379412967537, -0.743119014449, -0.574665664608, -0.0538697958874, -0.106767501743, -0.288055591119, -0.183916377388, -0.315071850633, 0.0564582173651, -0.45421785323, -0.301966810484, -0.462383633755, -0.201263701859, 0.390198926482, 0.189174670049, -0.124382662462, 0.173056915651, -0.246088568839, -0.417363186708, -0.276634481814, -0.307293800157, -0.220110896865, -0.154536101855, -0.267766153735, -0.679716987598, -0.404933827674, 0.0221099733372, -0.102984502666, -0.322003233621, -0.239126007442, -0.380886467519, -0.321138001763, -0.338436645285, 0.0236020072678, 0.308448288216, -0.146369237757, 0.0291223753489, -0.264513403778, -0.0347373088422, 0.0688293442924, -0.137589219581, -0.141481721299, -0.246645201832], [-0.320418888459, -0.081697726815, -0.192246038942, -0.156300695571, -0.00561783876666, -0.297755385696, 0.049411252838, -0.257188447337, -0.201105696487, -0.427054779344, -0.26510778312, -0.2113689721, -0.0667659336335, -0.369808702968, -0.300028087541, -0.137208892347, -0.0750118439821, -0.161677973203, 0.0284530037125, 0.0577027949332, 0.667637700795, -0.396549247175, -0.24048007882, 0.476847652987, -0.505866106932, -0.575355558157, 0.28500292766, -0.101488432401, 0.167206430383, 0.0242882626079, 0.255534890276, -0.160714361372, -0.312032479914, -0.100733451644, -0.42260759631, 0.12270146039, -0.241508473346, -0.33377115788, 0.108959930901, -0.234570917238, -0.345448322692, 0.807102908485, -0.0333915838256, -0.135878685249, -0.0612415314167, -0.175313628692, 0.103065049986, 0.0491191764868, -0.331416534591, 0.0780958438575], [-0.115568933082, -0.369603011156, 0.257292211793, -0.0951525609783, 0.272354098615, 0.0822392713722, -0.322782675313, 0.543718477247, -0.536532863171, 0.87621676731, -0.218437520741, -0.310399419058, 0.598694663327, 0.265251865887, -0.289330383178, 0.236680161016, -0.144022429697, 0.0213988666266, 0.400357945321, -0.250483570986, -1.0923870403, -0.118713932969, -0.314459260087, -0.638910297325, 0.579814725494, -0.337414498813, 0.0352143074094, 0.228018360666, -0.25054866825, -0.668490375177, 0.0571722874356, -0.242738177606, -0.117521512213, -0.320898662756, 0.542672246723, -0.234100916615, -0.10165943033, 0.142903094937, 0.242358861617, -0.15470727188, -0.29133026913, -1.02198225743, -0.293385332253, -0.0241174973538, -0.303629105857, -0.261668016639, -0.268779926029, 0.141991262286, 0.0398109312816, -0.324959495775], [-0.285347684225, 0.194438173378, 0.0453998630956, -0.197802572055, -0.16511455241, 0.162548976646, -0.203045023055, 0.146747278603, 0.0641666810182, 0.661184293685, -0.173433127849, -0.0161565601387, 0.249360480342, 0.395908617143, -0.228803494969, -0.343257030433, -0.384799849872, -0.105558267989, 0.235359425553, 0.045900508301, -0.563871999562, 0.458371585679, 0.0531629585794, -0.285624083796, 0.316898614208, 0.0810509621785, 0.112820823493, -0.156718759281, -0.28910727756, -0.306553788636, 0.0864774906638, -0.379584153504, 0.174450201173, -0.288972847594, 0.0645189107295, 0.192690920636, -0.333977864293, 0.206172911916, 0.0164467115959, 0.151304854213, -0.274235456647, -0.63519042287, 0.156709106677, 0.332624251372, 0.271874571037, 0.287978557704, -0.370543597859, -0.177090207365, 0.0778514751726, 0.299341280693]], [[-0.336189465062, 0.320820762417, -0.0830515735271], [0.0530361733285, 0.23985674356, 0.31767797362], [0.050274865098, 0.0861850342503, -0.144290006655], [0.0584318908386, 0.168244643055, 0.241116543691], [0.171649904044, 0.133276681901, 0.2452654949], [-0.119321502065, 0.11492719161, -0.0330579102812], [-0.0793354150769, -0.0600168256341, -0.0662963578342], [-0.770292285016, 0.29733495315, 0.385175312458], [-0.102228157079, 0.309211598586, 0.028654874909], [-0.488173036363, -0.107844847831, 0.641565182444], [0.255708445033, 0.2717533254, 0.109497414727], [-0.043679067553, -0.242396031015, 0.203624167695], [-0.504670393089, 0.19961734533, 0.575811993688], [-0.259344691962, 0.0545561633771, 0.556751297558], [0.0463359185057, -0.0230745081995, -0.105857778691], [-0.376780591838, -0.110668685208, -0.16813656078], [0.314740308415, -0.210923881859, 0.216687736257], [-0.298284883278, 0.395259388405, 0.328895905509], [-0.203174157166, -0.28484091715, 0.133402059745], [-0.185026109195, 0.0622530859247, -0.12632737918], [0.78724436029, 0.163480894142, -0.558372946764], [0.0030899452304, -0.267056292647, -0.204764010661], [0.153819865704, -0.196361795966, -0.169553255704], [0.64744982212, -0.282036359621, -0.106873792874], [-0.567306704246, -0.165487615092, 0.29639925547], [-0.245598263994, 0.0160546545634, 0.0624029768041], [0.0296152887692, 0.103722102182, -0.239192412046], [0.169258096518, -0.187038690427, 0.013022229484], [0.191981400828, -0.321433404239, -0.118190012072], [0.453590323917, 0.056278941328, -0.00109291358131], [0.246698036661, 0.302683443787, 0.219645794004], [-0.167408781407, -0.074555374487, 0.312057640726], [0.095344693129, 0.121118231693, 0.196288071081], [-0.313196330673, 0.181849046905, 0.155934807993], [-0.364371416378, -0.0399433527304, 0.168167635909], [-0.0841303461507, 0.186863344639, -0.0434942557564], [-0.123641590618, 0.468898371794, 0.0406423353055], [0.146750995174, -0.137993824625, 0.0490289208846], [0.319462286224, 0.0919238316604, 0.332363948222], [-0.584825293642, 0.19662600731, 0.191655938377], [-0.422101176323, -0.116484336911, -0.105857232265], [0.862978496091, -0.658124220467, -0.445369352453], [0.243830037306, 0.129656687988, 0.128488784577], [0.259625325093, -0.296724335531, -0.156622213407], [0.329563714859, -0.199247420339, -0.169755573551], [-0.160038486398, 0.168346018179, -0.0289521622875], [0.424735525269, -0.473008507432, -0.437975071229], [0.200936765785, -0.136379764992, -0.317883358324], [0.0628725630806, 0.231377098444, -0.0800666287605], [0.168134652279, 0.00749732347874, 0.0275572882387]]], \"output_activation\": \"softmax\"}"
     ]
    }
   ],
   "source": [
    "%%bash\n",
    "\n",
    "cat data.json"
   ]
  },
  {
   "cell_type": "markdown",
   "metadata": {},
   "source": [
    "### Run classification in JavaScript:"
   ]
  },
  {
   "cell_type": "markdown",
   "metadata": {},
   "source": [
    "Save the transpiled estimator:"
   ]
  },
  {
   "cell_type": "code",
   "execution_count": 6,
   "metadata": {
    "collapsed": true
   },
   "outputs": [],
   "source": [
    "with open('MLPClassifier.js', 'w') as f:\n",
    "    f.write(output)"
   ]
  },
  {
   "cell_type": "markdown",
   "metadata": {},
   "source": [
    "Prediction:"
   ]
  },
  {
   "cell_type": "code",
   "execution_count": 7,
   "metadata": {},
   "outputs": [
    {
     "name": "stdout",
     "output_type": "stream",
     "text": [
      "2\n"
     ]
    },
    {
     "name": "stderr",
     "output_type": "stream",
     "text": [
      "127.0.0.1 - - [02/Dec/2017 19:36:57] \"GET /data.json HTTP/1.1\" 200 -\n"
     ]
    }
   ],
   "source": [
    "%%bash\n",
    "\n",
    "if hash node 2/dev/null; then\n",
    "    python -m SimpleHTTPServer 8877 & serve_pid=$!\n",
    "    node MLPClassifier.js http://127.0.0.1:8877/data.json 1 2 3 4\n",
    "    kill $serve_pid\n",
    "fi"
   ]
  }
 ],
 "metadata": {
  "kernelspec": {
   "display_name": "Python 2",
   "language": "python",
   "name": "python2"
  },
  "language_info": {
   "codemirror_mode": {
    "name": "ipython",
    "version": 2
   },
   "file_extension": ".py",
   "mimetype": "text/x-python",
   "name": "python",
   "nbconvert_exporter": "python",
   "pygments_lexer": "ipython2",
   "version": "2.7.13"
  }
 },
 "nbformat": 4,
 "nbformat_minor": 1
}
