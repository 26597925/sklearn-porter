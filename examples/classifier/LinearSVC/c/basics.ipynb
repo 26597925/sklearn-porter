{
 "cells": [
  {
   "cell_type": "markdown",
   "metadata": {},
   "source": [
    "# sklearn-porter\n",
    "\n",
    "Repository: https://github.com/nok/sklearn-porter\n",
    "\n",
    "## LinearSVC\n",
    "\n",
    "Documentation: [sklearn.svm.LinearSVC](http://scikit-learn.org/stable/modules/generated/sklearn.svm.LinearSVC.html)"
   ]
  },
  {
   "cell_type": "markdown",
   "metadata": {},
   "source": [
    "### Loading data:"
   ]
  },
  {
   "cell_type": "code",
   "execution_count": 2,
   "metadata": {},
   "outputs": [
    {
     "name": "stdout",
     "output_type": "stream",
     "text": [
      "(150, 4) (150,)\n"
     ]
    }
   ],
   "source": [
    "from sklearn.datasets import load_iris\n",
    "\n",
    "iris_data = load_iris()\n",
    "X, y = iris_data.data, iris_data.target\n",
    "\n",
    "print X.shape, y.shape"
   ]
  },
  {
   "cell_type": "markdown",
   "metadata": {},
   "source": [
    "### Train classifier:"
   ]
  },
  {
   "cell_type": "code",
   "execution_count": 3,
   "metadata": {},
   "outputs": [
    {
     "data": {
      "text/plain": [
       "LinearSVC(C=1.0, class_weight=None, dual=True, fit_intercept=True,\n",
       "     intercept_scaling=1, loss='squared_hinge', max_iter=1000,\n",
       "     multi_class='ovr', penalty='l2', random_state=0, tol=0.0001,\n",
       "     verbose=0)"
      ]
     },
     "execution_count": 3,
     "metadata": {},
     "output_type": "execute_result"
    }
   ],
   "source": [
    "from sklearn import svm\n",
    "\n",
    "clf = svm.LinearSVC(C=1., random_state=0)\n",
    "clf.fit(X, y)"
   ]
  },
  {
   "cell_type": "markdown",
   "metadata": {},
   "source": [
    "### Transpile classifier:"
   ]
  },
  {
   "cell_type": "code",
   "execution_count": 4,
   "metadata": {
    "scrolled": false
   },
   "outputs": [
    {
     "name": "stdout",
     "output_type": "stream",
     "text": [
      "#include <stdlib.h>\n",
      "#include <stdio.h>\n",
      "#include <math.h>\n",
      "\n",
      "int predict (float atts[4]) {\n",
      "\n",
      "    double coefs[3][4] = {{0.18424209458473811, 0.45123000025163923, -0.80794587716737576, -0.45071660033253858}, {0.052877455748516447, -0.89214995228605254, 0.40398084459610972, -0.9376821661447452}, {-0.85070784319293802, -0.98670214922204336, 1.381010448739191, 1.8654095662423917}};\n",
      "    double inters[3] = {0.10956266406702335, 1.6636707776739579, -1.7096109416521363};\n",
      "\n",
      "    double class_val = -INFINITY;\n",
      "    int class_idx = -1;\n",
      "    int i, j;\n",
      "    for (i = 0; i < 3; i++) {\n",
      "        double prob = 0.;\n",
      "        for (j = 0; j < 4; j++) {\n",
      "            prob += coefs[i][j] * atts[j];\n",
      "        }\n",
      "        if (prob + inters[i] > class_val) {\n",
      "            class_val = prob + inters[i];\n",
      "            class_idx = i;\n",
      "        }\n",
      "    }\n",
      "    return class_idx;\n",
      "}\n",
      "\n",
      "int main(int argc, const char * argv[]) {\n",
      "    float atts[argc-1];\n",
      "    int i;\n",
      "    for (i = 1; i < argc; i++) {\n",
      "        atts[i-1] = atof(argv[i]);\n",
      "    }\n",
      "    printf(\"%d\", predict(atts));\n",
      "    return 0;\n",
      "}\n"
     ]
    }
   ],
   "source": [
    "from sklearn_porter import Porter\n",
    "\n",
    "output = Porter(clf, language='c').export()\n",
    "\n",
    "print output"
   ]
  }
 ],
 "metadata": {
  "kernelspec": {
   "display_name": "Python 2",
   "language": "python",
   "name": "python2"
  },
  "language_info": {
   "codemirror_mode": {
    "name": "ipython",
    "version": 2
   },
   "file_extension": ".py",
   "mimetype": "text/x-python",
   "name": "python",
   "nbconvert_exporter": "python",
   "pygments_lexer": "ipython2",
   "version": "2.7.12"
  }
 },
 "nbformat": 4,
 "nbformat_minor": 2
}
